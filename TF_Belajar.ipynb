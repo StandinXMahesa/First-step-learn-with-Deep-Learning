{
 "cells": [
  {
   "cell_type": "code",
   "execution_count": 1,
   "metadata": {},
   "outputs": [],
   "source": [
    "# Library yang digunakan\n",
    "from tensorflow.keras.preprocessing.image import ImageDataGenerator\n",
    "from tensorflow.keras.preprocessing import image\n",
    "import matplotlib.image as mpimg\n",
    "import matplotlib.pyplot as plt\n",
    "import tensorflow as tf\n",
    "import numpy as np\n",
    "import os"
   ]
  },
  {
   "cell_type": "code",
   "execution_count": 2,
   "metadata": {},
   "outputs": [],
   "source": [
    "(x_train,y_train), (x_test,y_test) = tf.keras.datasets.mnist.load_data()"
   ]
  },
  {
   "cell_type": "code",
   "execution_count": 5,
   "metadata": {},
   "outputs": [
    {
     "data": {
      "text/plain": [
       "<matplotlib.image.AxesImage at 0x21bfbf92880>"
      ]
     },
     "execution_count": 5,
     "metadata": {},
     "output_type": "execute_result"
    },
    {
     "data": {
      "image/png": "[encoded data removed]",
      "text/plain": [
       "<Figure size 432x288 with 1 Axes>"
      ]
     },
     "metadata": {
      "needs_background": "light"
     },
     "output_type": "display_data"
    }
   ],
   "source": [
    "plt.imshow(x_train[2], cmap = plt.cm.binary)"
   ]
  },
  {
   "cell_type": "code",
   "execution_count": 26,
   "metadata": {},
   "outputs": [
    {
     "name": "stdout",
     "output_type": "stream",
     "text": [
      "Epoch 1/30\n",
      "1875/1875 [==============================] - 2s 1ms/step - loss: 1.6574 - accuracy: 0.8728\n",
      "Epoch 2/30\n",
      "1875/1875 [==============================] - 2s 1ms/step - loss: 0.3741 - accuracy: 0.9225\n",
      "Epoch 3/30\n",
      "1875/1875 [==============================] - 2s 988us/step - loss: 0.2635 - accuracy: 0.9379\n",
      "Epoch 4/30\n",
      "1875/1875 [==============================] - 2s 987us/step - loss: 0.1927 - accuracy: 0.9507\n",
      "Epoch 5/30\n",
      "1875/1875 [==============================] - 2s 987us/step - loss: 0.1493 - accuracy: 0.9589\n",
      "Epoch 6/30\n",
      "1875/1875 [==============================] - 2s 984us/step - loss: 0.1335 - accuracy: 0.9627\n",
      "Epoch 7/30\n",
      "1875/1875 [==============================] - 2s 986us/step - loss: 0.1229 - accuracy: 0.9663\n",
      "Epoch 8/30\n",
      "1875/1875 [==============================] - 2s 1ms/step - loss: 0.1130 - accuracy: 0.9689\n",
      "Epoch 9/30\n",
      "1875/1875 [==============================] - 2s 985us/step - loss: 0.1035 - accuracy: 0.9713\n",
      "Epoch 10/30\n",
      "1875/1875 [==============================] - 2s 989us/step - loss: 0.0989 - accuracy: 0.9732\n",
      "Epoch 11/30\n",
      "1875/1875 [==============================] - 2s 971us/step - loss: 0.0886 - accuracy: 0.9754\n",
      "Epoch 12/30\n",
      "1875/1875 [==============================] - 2s 961us/step - loss: 0.0876 - accuracy: 0.9761\n",
      "Epoch 13/30\n",
      "1875/1875 [==============================] - 2s 965us/step - loss: 0.0818 - accuracy: 0.9781\n",
      "Epoch 14/30\n",
      "1875/1875 [==============================] - 2s 965us/step - loss: 0.0845 - accuracy: 0.9784\n",
      "Epoch 15/30\n",
      "1875/1875 [==============================] - 2s 978us/step - loss: 0.0755 - accuracy: 0.9805\n",
      "Epoch 16/30\n",
      "1875/1875 [==============================] - 2s 947us/step - loss: 0.0710 - accuracy: 0.9813\n",
      "Epoch 17/30\n",
      "1875/1875 [==============================] - 2s 949us/step - loss: 0.0690 - accuracy: 0.9815\n",
      "Epoch 18/30\n",
      "1875/1875 [==============================] - 2s 973us/step - loss: 0.0766 - accuracy: 0.9814\n"
     ]
    },
    {
     "data": {
      "text/plain": [
       "<keras.callbacks.History at 0x21bffdc7df0>"
      ]
     },
     "execution_count": 26,
     "metadata": {},
     "output_type": "execute_result"
    }
   ],
   "source": [
    "from tensorflow.keras.layers import Flatten,Conv2D,Dense,Activation\n",
    "from tensorflow.keras.callbacks import EarlyStopping\n",
    "early_stopping = EarlyStopping(monitor='accuracy', \n",
    "    patience=1, \n",
    "    min_delta=0, \n",
    "    mode='max'\n",
    "    )\n",
    "\n",
    "model = tf.keras.models.Sequential()\n",
    "model.add(tf.keras.layers.Flatten()) # Membuat gambar menjadi 1 Dimensi\n",
    "model.add(tf.keras.layers.Dense(128, activation = 'relu'))\n",
    "model.add(tf.keras.layers.Dense(128, activation='relu'))\n",
    "model.add(tf.keras.layers.Dense(10, activation='sigmoid'))\n",
    "\n",
    "model.compile(optimizer = 'adam', loss = 'sparse_categorical_crossentropy',metrics = ['accuracy'])\n",
    "\n",
    "model.fit(x_train,y_train,epochs=30,callbacks=[early_stopping])"
   ]
  },
  {
   "cell_type": "code",
   "execution_count": 27,
   "metadata": {},
   "outputs": [],
   "source": [
    "cekidot = model.predict(x_test)"
   ]
  },
  {
   "cell_type": "code",
   "execution_count": 33,
   "metadata": {},
   "outputs": [
    {
     "data": {
      "text/plain": [
       "array([6.3606231e-11, 5.4465190e-06, 9.9231434e-01, 2.7635009e-08,\n",
       "       4.4624433e-16, 5.2414778e-25, 6.7373573e-10, 9.1003871e-11,\n",
       "       2.0084278e-06, 5.7043440e-19], dtype=float32)"
      ]
     },
     "execution_count": 33,
     "metadata": {},
     "output_type": "execute_result"
    }
   ],
   "source": [
    "cekidot[1]"
   ]
  },
  {
   "cell_type": "code",
   "execution_count": 28,
   "metadata": {},
   "outputs": [
    {
     "data": {
      "text/plain": [
       "2"
      ]
     },
     "execution_count": 28,
     "metadata": {},
     "output_type": "execute_result"
    }
   ],
   "source": [
    "np.argmax(cekidot[1])"
   ]
  },
  {
   "cell_type": "code",
   "execution_count": 25,
   "metadata": {},
   "outputs": [
    {
     "data": {
      "text/plain": [
       "<matplotlib.image.AxesImage at 0x21bffd77580>"
      ]
     },
     "execution_count": 25,
     "metadata": {},
     "output_type": "execute_result"
    },
    {
     "data": {
      "image/png": "[encoded data removed]",
      "text/plain": [
       "<Figure size 432x288 with 1 Axes>"
      ]
     },
     "metadata": {
      "needs_background": "light"
     },
     "output_type": "display_data"
    }
   ],
   "source": [
    "plt.imshow(x_test[1], cmap = plt.cm.binary)\n",
    "# Membuat Hitam Putih = plt.cm.binary"
   ]
  },
  {
   "cell_type": "code",
   "execution_count": null,
   "metadata": {},
   "outputs": [],
   "source": []
  }
 ],
 "metadata": {
  "interpreter": {
   "hash": "11f1dc213e07634baa4c5c321dec03c05dafae643c50f20e6d1a492290c05dc2"
  },
  "kernelspec": {
   "display_name": "Python 3.9.0 64-bit",
   "language": "python",
   "name": "python3"
  },
  "language_info": {
   "codemirror_mode": {
    "name": "ipython",
    "version": 3
   },
   "file_extension": ".py",
   "mimetype": "text/x-python",
   "name": "python",
   "nbconvert_exporter": "python",
   "pygments_lexer": "ipython3",
   "version": "3.9.0"
  },
  "orig_nbformat": 4
 },
 "nbformat": 4,
 "nbformat_minor": 2
}
